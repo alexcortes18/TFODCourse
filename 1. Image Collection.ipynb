{
 "cells": [
  {
   "cell_type": "markdown",
   "metadata": {},
   "source": [
    "# 1. Import Dependencies"
   ]
  },
  {
   "cell_type": "code",
   "execution_count": null,
   "metadata": {},
   "outputs": [],
   "source": [
    "!pip install opencv-python"
   ]
  },
  {
   "cell_type": "code",
   "execution_count": 3,
   "metadata": {},
   "outputs": [],
   "source": [
    "# Import opencv\n",
    "import cv2 \n",
    "\n",
    "# Import uuid\n",
    "import uuid\n",
    "\n",
    "# Import Operating System\n",
    "import os\n",
    "\n",
    "# Import time\n",
    "import time"
   ]
  },
  {
   "cell_type": "markdown",
   "metadata": {},
   "source": [
    "# 2. Define Images to Collect"
   ]
  },
  {
   "cell_type": "code",
   "execution_count": null,
   "metadata": {},
   "outputs": [],
   "source": [
    "labels = ['thumbsup', 'thumbsdown', 'thankyou', 'livelong']\n",
    "# labels = ['thankyou']\n",
    "number_imgs = 5"
   ]
  },
  {
   "cell_type": "markdown",
   "metadata": {},
   "source": [
    "# 3. Setup Folders "
   ]
  },
  {
   "cell_type": "code",
   "execution_count": null,
   "metadata": {},
   "outputs": [],
   "source": [
    "IMAGES_PATH = os.path.join('Tensorflow', 'workspace', 'images', 'collectedimages')"
   ]
  },
  {
   "cell_type": "code",
   "execution_count": null,
   "metadata": {},
   "outputs": [],
   "source": [
    "os.name"
   ]
  },
  {
   "cell_type": "code",
   "execution_count": null,
   "metadata": {},
   "outputs": [],
   "source": [
    "if not os.path.exists(IMAGES_PATH):\n",
    "    if os.name == 'posix':\n",
    "        !mkdir -p {IMAGES_PATH}\n",
    "    if os.name == 'nt':\n",
    "         !mkdir {IMAGES_PATH}\n",
    "for label in labels:\n",
    "    path = os.path.join(IMAGES_PATH, label)\n",
    "    if not os.path.exists(path):\n",
    "        !mkdir {path}"
   ]
  },
  {
   "cell_type": "markdown",
   "metadata": {},
   "source": [
    "# 4. Capture Images"
   ]
  },
  {
   "cell_type": "code",
   "execution_count": null,
   "metadata": {},
   "outputs": [],
   "source": [
    "for label in labels:\n",
    "    cap = cv2.VideoCapture(1)\n",
    "    print('Collecting images for {}'.format(label))\n",
    "    time.sleep(5)\n",
    "    try:\n",
    "        for imgnum in range(number_imgs):\n",
    "            print('Collecting image {}'.format(imgnum))\n",
    "            ret, frame = cap.read()\n",
    "            imgname = os.path.join(IMAGES_PATH,label,label+'.'+'{}.jpg'.format(str(uuid.uuid1())))\n",
    "            cv2.imwrite(imgname, frame)\n",
    "            cv2.imshow('frame', frame)\n",
    "            time.sleep(2)\n",
    "\n",
    "            if cv2.waitKey(1) & 0xFF == ord('q'):\n",
    "                break\n",
    "    finally:\n",
    "        cap.release()\n",
    "        cv2.destroyAllWindows()"
   ]
  },
  {
   "cell_type": "markdown",
   "metadata": {},
   "source": [
    "# 5. Image Labelling"
   ]
  },
  {
   "cell_type": "code",
   "execution_count": 1,
   "metadata": {},
   "outputs": [],
   "source": [
    "# !pip install --upgrade pyqt5 lxml"
   ]
  },
  {
   "cell_type": "code",
   "execution_count": 4,
   "metadata": {},
   "outputs": [],
   "source": [
    "LABELIMG_PATH = os.path.join('Tensorflow', 'labelimg')"
   ]
  },
  {
   "cell_type": "code",
   "execution_count": 5,
   "metadata": {},
   "outputs": [
    {
     "data": {
      "text/plain": [
       "'Tensorflow/labelimg'"
      ]
     },
     "execution_count": 5,
     "metadata": {},
     "output_type": "execute_result"
    }
   ],
   "source": [
    "LABELIMG_PATH"
   ]
  },
  {
   "cell_type": "code",
   "execution_count": 6,
   "metadata": {},
   "outputs": [],
   "source": [
    "# if not os.path.exists(LABELIMG_PATH):\n",
    "#     !mkdir {LABELIMG_PATH}\n",
    "#     !git clone https://github.com/tzutalin/labelImg {LABELIMG_PATH}"
   ]
  },
  {
   "cell_type": "code",
   "execution_count": 7,
   "metadata": {},
   "outputs": [
    {
     "name": "stdout",
     "output_type": "stream",
     "text": [
      "make: *** No rule to make target `qt5py3'.  Stop.\n"
     ]
    }
   ],
   "source": [
    "if os.name == 'posix':\n",
    "    !make qt5py3\n",
    "if os.name =='nt':\n",
    "    !cd {LABELIMG_PATH} && pyrcc5 -o libs/resources.py resources.qrc"
   ]
  },
  {
   "cell_type": "code",
   "execution_count": 8,
   "metadata": {},
   "outputs": [],
   "source": [
    "# !cd {LABELIMG_PATH} && python labelImg.py"
   ]
  },
  {
   "cell_type": "code",
   "execution_count": 9,
   "metadata": {},
   "outputs": [],
   "source": [
    "# Make sure you are in the LabelImg folder\n",
    "!python3 -m PyQt5.pyrcc_main -o {LABELIMG_PATH}/libs/resources.py {LABELIMG_PATH}/resources.qrc"
   ]
  },
  {
   "cell_type": "code",
   "execution_count": 11,
   "metadata": {},
   "outputs": [
    {
     "name": "stdout",
     "output_type": "stream",
     "text": [
      "2025-10-16 10:29:12.188 python3[23745:21594031] The class 'NSOpenPanel' overrides the method identifier.  This method is implemented by class 'NSWindow'\n",
      "Cancel creation.\n",
      "Image:/Users/alejandrocortes/Documents/Courses/Udemy Courses/YT Tensorflow Object Detection/TFODCourse/Tensorflow/workspace/images/collectedimages/livelong/livelong.639b7098-a4c5-11f0-afa2-a29e8ae601a0.jpg -> Annotation:/Users/alejandrocortes/Documents/Courses/Udemy Courses/YT Tensorflow Object Detection/TFODCourse/Tensorflow/workspace/images/collectedimages/livelong/livelong.639b7098-a4c5-11f0-afa2-a29e8ae601a0.xml\n",
      "2025-10-16 10:32:21.209 python3[23745:21594031] The class 'NSSavePanel' overrides the method identifier.  This method is implemented by class 'NSWindow'\n",
      "ESC press\n",
      "Cancel creation.\n",
      "ESC press\n",
      "Cancel creation.\n",
      "Image:/Users/alejandrocortes/Documents/Courses/Udemy Courses/YT Tensorflow Object Detection/TFODCourse/Tensorflow/workspace/images/collectedimages/livelong/livelong.cffe8536-a4c5-11f0-817a-a29e8ae601a0.jpg -> Annotation:/Users/alejandrocortes/Documents/Courses/Udemy Courses/YT Tensorflow Object Detection/TFODCourse/Tensorflow/workspace/images/collectedimages/livelong/livelong.cffe8536-a4c5-11f0-817a-a29e8ae601a0.xml\n",
      "Image:/Users/alejandrocortes/Documents/Courses/Udemy Courses/YT Tensorflow Object Detection/TFODCourse/Tensorflow/workspace/images/collectedimages/livelong/livelong.d4d90d60-a4c5-11f0-817a-a29e8ae601a0.jpg -> Annotation:/Users/alejandrocortes/Documents/Courses/Udemy Courses/YT Tensorflow Object Detection/TFODCourse/Tensorflow/workspace/images/collectedimages/livelong/livelong.d4d90d60-a4c5-11f0-817a-a29e8ae601a0.xml\n",
      "Image:/Users/alejandrocortes/Documents/Courses/Udemy Courses/YT Tensorflow Object Detection/TFODCourse/Tensorflow/workspace/images/collectedimages/livelong/livelong.d9a99396-a4c5-11f0-817a-a29e8ae601a0.jpg -> Annotation:/Users/alejandrocortes/Documents/Courses/Udemy Courses/YT Tensorflow Object Detection/TFODCourse/Tensorflow/workspace/images/collectedimages/livelong/livelong.d9a99396-a4c5-11f0-817a-a29e8ae601a0.xml\n",
      "Image:/Users/alejandrocortes/Documents/Courses/Udemy Courses/YT Tensorflow Object Detection/TFODCourse/Tensorflow/workspace/images/collectedimages/livelong/livelong.6260b314-a4c5-11f0-afa2-a29e8ae601a0.jpg -> Annotation:/Users/alejandrocortes/Documents/Courses/Udemy Courses/YT Tensorflow Object Detection/TFODCourse/Tensorflow/workspace/images/collectedimages/livelong/livelong.6260b314-a4c5-11f0-afa2-a29e8ae601a0.xml\n",
      "Image:/Users/alejandrocortes/Documents/Courses/Udemy Courses/YT Tensorflow Object Detection/TFODCourse/Tensorflow/workspace/images/collectedimages/livelong/livelong.612566de-a4c5-11f0-afa2-a29e8ae601a0.jpg -> Annotation:/Users/alejandrocortes/Documents/Courses/Udemy Courses/YT Tensorflow Object Detection/TFODCourse/Tensorflow/workspace/images/collectedimages/livelong/livelong.612566de-a4c5-11f0-afa2-a29e8ae601a0.xml\n",
      "Image:/Users/alejandrocortes/Documents/Courses/Udemy Courses/YT Tensorflow Object Detection/TFODCourse/Tensorflow/workspace/images/collectedimages/livelong/livelong.d270d350-a4c5-11f0-817a-a29e8ae601a0.jpg -> Annotation:/Users/alejandrocortes/Documents/Courses/Udemy Courses/YT Tensorflow Object Detection/TFODCourse/Tensorflow/workspace/images/collectedimages/livelong/livelong.d270d350-a4c5-11f0-817a-a29e8ae601a0.xml\n",
      "Image:/Users/alejandrocortes/Documents/Courses/Udemy Courses/YT Tensorflow Object Detection/TFODCourse/Tensorflow/workspace/images/collectedimages/livelong/livelong.d741612e-a4c5-11f0-817a-a29e8ae601a0.jpg -> Annotation:/Users/alejandrocortes/Documents/Courses/Udemy Courses/YT Tensorflow Object Detection/TFODCourse/Tensorflow/workspace/images/collectedimages/livelong/livelong.d741612e-a4c5-11f0-817a-a29e8ae601a0.xml\n",
      "Image:/Users/alejandrocortes/Documents/Courses/Udemy Courses/YT Tensorflow Object Detection/TFODCourse/Tensorflow/workspace/images/collectedimages/thankyou/thankyou.60f8f0ee-a4c6-11f0-817a-a29e8ae601a0.jpg -> Annotation:/Users/alejandrocortes/Documents/Courses/Udemy Courses/YT Tensorflow Object Detection/TFODCourse/Tensorflow/workspace/images/collectedimages/thankyou/thankyou.60f8f0ee-a4c6-11f0-817a-a29e8ae601a0.xml\n",
      "Image:/Users/alejandrocortes/Documents/Courses/Udemy Courses/YT Tensorflow Object Detection/TFODCourse/Tensorflow/workspace/images/collectedimages/thankyou/thankyou.64afeeae-a4c6-11f0-817a-a29e8ae601a0.jpg -> Annotation:/Users/alejandrocortes/Documents/Courses/Udemy Courses/YT Tensorflow Object Detection/TFODCourse/Tensorflow/workspace/images/collectedimages/thankyou/thankyou.64afeeae-a4c6-11f0-817a-a29e8ae601a0.xml\n",
      "Cancel creation.\n",
      "Image:/Users/alejandrocortes/Documents/Courses/Udemy Courses/YT Tensorflow Object Detection/TFODCourse/Tensorflow/workspace/images/collectedimages/thankyou/thankyou.65eb33e6-a4c6-11f0-817a-a29e8ae601a0.jpg -> Annotation:/Users/alejandrocortes/Documents/Courses/Udemy Courses/YT Tensorflow Object Detection/TFODCourse/Tensorflow/workspace/images/collectedimages/thankyou/thankyou.65eb33e6-a4c6-11f0-817a-a29e8ae601a0.xml\n",
      "Image:/Users/alejandrocortes/Documents/Courses/Udemy Courses/YT Tensorflow Object Detection/TFODCourse/Tensorflow/workspace/images/collectedimages/thankyou/thankyou.70a81cf4-a4c6-11f0-817a-a29e8ae601a0.jpg -> Annotation:/Users/alejandrocortes/Documents/Courses/Udemy Courses/YT Tensorflow Object Detection/TFODCourse/Tensorflow/workspace/images/collectedimages/thankyou/thankyou.70a81cf4-a4c6-11f0-817a-a29e8ae601a0.xml\n",
      "Image:/Users/alejandrocortes/Documents/Courses/Udemy Courses/YT Tensorflow Object Detection/TFODCourse/Tensorflow/workspace/images/collectedimages/thankyou/thankyou.71e7fe54-a4c6-11f0-817a-a29e8ae601a0.jpg -> Annotation:/Users/alejandrocortes/Documents/Courses/Udemy Courses/YT Tensorflow Object Detection/TFODCourse/Tensorflow/workspace/images/collectedimages/thankyou/thankyou.71e7fe54-a4c6-11f0-817a-a29e8ae601a0.xml\n",
      "Image:/Users/alejandrocortes/Documents/Courses/Udemy Courses/YT Tensorflow Object Detection/TFODCourse/Tensorflow/workspace/images/collectedimages/thankyou/thankyou.745e85fe-a4c6-11f0-817a-a29e8ae601a0.jpg -> Annotation:/Users/alejandrocortes/Documents/Courses/Udemy Courses/YT Tensorflow Object Detection/TFODCourse/Tensorflow/workspace/images/collectedimages/thankyou/thankyou.745e85fe-a4c6-11f0-817a-a29e8ae601a0.xml\n",
      "Image:/Users/alejandrocortes/Documents/Courses/Udemy Courses/YT Tensorflow Object Detection/TFODCourse/Tensorflow/workspace/images/collectedimages/thankyou/thankyou.759a702c-a4c6-11f0-817a-a29e8ae601a0.jpg -> Annotation:/Users/alejandrocortes/Documents/Courses/Udemy Courses/YT Tensorflow Object Detection/TFODCourse/Tensorflow/workspace/images/collectedimages/thankyou/thankyou.759a702c-a4c6-11f0-817a-a29e8ae601a0.xml\n",
      "Image:/Users/alejandrocortes/Documents/Courses/Udemy Courses/YT Tensorflow Object Detection/TFODCourse/Tensorflow/workspace/images/collectedimages/thankyou/thankyou.62390b88-a4c6-11f0-817a-a29e8ae601a0.jpg -> Annotation:/Users/alejandrocortes/Documents/Courses/Udemy Courses/YT Tensorflow Object Detection/TFODCourse/Tensorflow/workspace/images/collectedimages/thankyou/thankyou.62390b88-a4c6-11f0-817a-a29e8ae601a0.xml\n",
      "Image:/Users/alejandrocortes/Documents/Courses/Udemy Courses/YT Tensorflow Object Detection/TFODCourse/Tensorflow/workspace/images/collectedimages/thankyou/thankyou.73231d58-a4c6-11f0-817a-a29e8ae601a0.jpg -> Annotation:/Users/alejandrocortes/Documents/Courses/Udemy Courses/YT Tensorflow Object Detection/TFODCourse/Tensorflow/workspace/images/collectedimages/thankyou/thankyou.73231d58-a4c6-11f0-817a-a29e8ae601a0.xml\n",
      "Image:/Users/alejandrocortes/Documents/Courses/Udemy Courses/YT Tensorflow Object Detection/TFODCourse/Tensorflow/workspace/images/collectedimages/thankyou/thankyou.637442d8-a4c6-11f0-817a-a29e8ae601a0.jpg -> Annotation:/Users/alejandrocortes/Documents/Courses/Udemy Courses/YT Tensorflow Object Detection/TFODCourse/Tensorflow/workspace/images/collectedimages/thankyou/thankyou.637442d8-a4c6-11f0-817a-a29e8ae601a0.xml\n",
      "Cancel creation.\n",
      "Image:/Users/alejandrocortes/Documents/Courses/Udemy Courses/YT Tensorflow Object Detection/TFODCourse/Tensorflow/workspace/images/collectedimages/thumbsdown/thumbsdown.f3b21c1e-a4c4-11f0-ac8a-a29e8ae601a0.jpg -> Annotation:/Users/alejandrocortes/Documents/Courses/Udemy Courses/YT Tensorflow Object Detection/TFODCourse/Tensorflow/workspace/images/collectedimages/thumbsdown/thumbsdown.f3b21c1e-a4c4-11f0-ac8a-a29e8ae601a0.xml\n",
      "Image:/Users/alejandrocortes/Documents/Courses/Udemy Courses/YT Tensorflow Object Detection/TFODCourse/Tensorflow/workspace/images/collectedimages/thumbsdown/thumbsdown.f4ee25b4-a4c4-11f0-ac8a-a29e8ae601a0.jpg -> Annotation:/Users/alejandrocortes/Documents/Courses/Udemy Courses/YT Tensorflow Object Detection/TFODCourse/Tensorflow/workspace/images/collectedimages/thumbsdown/thumbsdown.f4ee25b4-a4c4-11f0-ac8a-a29e8ae601a0.xml\n",
      "Image:/Users/alejandrocortes/Documents/Courses/Udemy Courses/YT Tensorflow Object Detection/TFODCourse/Tensorflow/workspace/images/collectedimages/thumbsdown/thumbsdown.f13b861e-a4c4-11f0-ac8a-a29e8ae601a0.jpg -> Annotation:/Users/alejandrocortes/Documents/Courses/Udemy Courses/YT Tensorflow Object Detection/TFODCourse/Tensorflow/workspace/images/collectedimages/thumbsdown/thumbsdown.f13b861e-a4c4-11f0-ac8a-a29e8ae601a0.xml\n",
      "Image:/Users/alejandrocortes/Documents/Courses/Udemy Courses/YT Tensorflow Object Detection/TFODCourse/Tensorflow/workspace/images/collectedimages/thumbsdown/thumbsdown.f00080c4-a4c4-11f0-ac8a-a29e8ae601a0.jpg -> Annotation:/Users/alejandrocortes/Documents/Courses/Udemy Courses/YT Tensorflow Object Detection/TFODCourse/Tensorflow/workspace/images/collectedimages/thumbsdown/thumbsdown.f00080c4-a4c4-11f0-ac8a-a29e8ae601a0.xml\n",
      "Image:/Users/alejandrocortes/Documents/Courses/Udemy Courses/YT Tensorflow Object Detection/TFODCourse/Tensorflow/workspace/images/collectedimages/thumbsdown/thumbsdown.f2771af2-a4c4-11f0-ac8a-a29e8ae601a0.jpg -> Annotation:/Users/alejandrocortes/Documents/Courses/Udemy Courses/YT Tensorflow Object Detection/TFODCourse/Tensorflow/workspace/images/collectedimages/thumbsdown/thumbsdown.f2771af2-a4c4-11f0-ac8a-a29e8ae601a0.xml\n",
      "Image:/Users/alejandrocortes/Documents/Courses/Udemy Courses/YT Tensorflow Object Detection/TFODCourse/Tensorflow/workspace/images/collectedimages/thumbsup/thumbsup.e6b86bb2-a4c4-11f0-ac8a-a29e8ae601a0.jpg -> Annotation:/Users/alejandrocortes/Documents/Courses/Udemy Courses/YT Tensorflow Object Detection/TFODCourse/Tensorflow/workspace/images/collectedimages/thumbsup/thumbsup.e6b86bb2-a4c4-11f0-ac8a-a29e8ae601a0.xml\n",
      "Image:/Users/alejandrocortes/Documents/Courses/Udemy Courses/YT Tensorflow Object Detection/TFODCourse/Tensorflow/workspace/images/collectedimages/thumbsup/thumbsup.e80b57cc-a4c4-11f0-ac8a-a29e8ae601a0.jpg -> Annotation:/Users/alejandrocortes/Documents/Courses/Udemy Courses/YT Tensorflow Object Detection/TFODCourse/Tensorflow/workspace/images/collectedimages/thumbsup/thumbsup.e80b57cc-a4c4-11f0-ac8a-a29e8ae601a0.xml\n",
      "Image:/Users/alejandrocortes/Documents/Courses/Udemy Courses/YT Tensorflow Object Detection/TFODCourse/Tensorflow/workspace/images/collectedimages/thumbsup/thumbsup.e947d6b0-a4c4-11f0-ac8a-a29e8ae601a0.jpg -> Annotation:/Users/alejandrocortes/Documents/Courses/Udemy Courses/YT Tensorflow Object Detection/TFODCourse/Tensorflow/workspace/images/collectedimages/thumbsup/thumbsup.e947d6b0-a4c4-11f0-ac8a-a29e8ae601a0.xml\n",
      "Image:/Users/alejandrocortes/Documents/Courses/Udemy Courses/YT Tensorflow Object Detection/TFODCourse/Tensorflow/workspace/images/collectedimages/thumbsup/thumbsup.ea820244-a4c4-11f0-ac8a-a29e8ae601a0.jpg -> Annotation:/Users/alejandrocortes/Documents/Courses/Udemy Courses/YT Tensorflow Object Detection/TFODCourse/Tensorflow/workspace/images/collectedimages/thumbsup/thumbsup.ea820244-a4c4-11f0-ac8a-a29e8ae601a0.xml\n",
      "Image:/Users/alejandrocortes/Documents/Courses/Udemy Courses/YT Tensorflow Object Detection/TFODCourse/Tensorflow/workspace/images/collectedimages/thumbsup/thumbsup.ebbf312c-a4c4-11f0-ac8a-a29e8ae601a0.jpg -> Annotation:/Users/alejandrocortes/Documents/Courses/Udemy Courses/YT Tensorflow Object Detection/TFODCourse/Tensorflow/workspace/images/collectedimages/thumbsup/thumbsup.ebbf312c-a4c4-11f0-ac8a-a29e8ae601a0.xml\n"
     ]
    }
   ],
   "source": [
    "import os\n",
    "os.chdir(LABELIMG_PATH)\n",
    "!python3 labelImg.py"
   ]
  },
  {
   "cell_type": "markdown",
   "metadata": {},
   "source": [
    "# 6. Move them into a Training and Testing Partition"
   ]
  },
  {
   "cell_type": "markdown",
   "metadata": {},
   "source": [
    "# OPTIONAL - 7. Compress them for Colab Training"
   ]
  },
  {
   "cell_type": "code",
   "execution_count": null,
   "metadata": {},
   "outputs": [],
   "source": [
    "TRAIN_PATH = os.path.join('Tensorflow', 'workspace', 'images', 'train')\n",
    "TEST_PATH = os.path.join('Tensorflow', 'workspace', 'images', 'test')\n",
    "ARCHIVE_PATH = os.path.join('Tensorflow', 'workspace', 'images', 'archive.tar.gz')"
   ]
  },
  {
   "cell_type": "code",
   "execution_count": null,
   "metadata": {},
   "outputs": [],
   "source": [
    "!tar -czf {ARCHIVE_PATH} {TRAIN_PATH} {TEST_PATH}"
   ]
  },
  {
   "cell_type": "code",
   "execution_count": null,
   "metadata": {},
   "outputs": [],
   "source": []
  }
 ],
 "metadata": {
  "kernelspec": {
   "display_name": "tfod",
   "language": "python",
   "name": "python3"
  },
  "language_info": {
   "codemirror_mode": {
    "name": "ipython",
    "version": 3
   },
   "file_extension": ".py",
   "mimetype": "text/x-python",
   "name": "python",
   "nbconvert_exporter": "python",
   "pygments_lexer": "ipython3",
   "version": "3.9.12"
  }
 },
 "nbformat": 4,
 "nbformat_minor": 2
}
